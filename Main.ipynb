{
 "cells": [
  {
   "cell_type": "code",
   "execution_count": 1,
   "metadata": {},
   "outputs": [],
   "source": [
    "import time\n",
    "import copy\n",
    "import pandas as pd\n",
    "import torch\n",
    "from torch.autograd import Variable\n",
    "from densenet import densenet169\n",
    "from utils import plot_training, n_p, get_count\n",
    "from train import train_model, get_metrics\n",
    "from pipeline import get_study_level_data, get_dataloaders"
   ]
  },
  {
   "cell_type": "code",
   "execution_count": 2,
   "metadata": {},
   "outputs": [
    {
     "name": "stderr",
     "output_type": "stream",
     "text": [
      "100%|███████████████████████████████████████████████████████████████████████████████| 587/587 [00:01<00:00, 402.26it/s]\n",
      "100%|███████████████████████████████████████████████████████████████████████████████| 132/132 [00:00<00:00, 344.67it/s]\n"
     ]
    }
   ],
   "source": [
    "study_data = get_study_level_data(study_type='XR_HUMERUS')"
   ]
  },
  {
   "cell_type": "code",
   "execution_count": 3,
   "metadata": {},
   "outputs": [],
   "source": [
    "data_cat = ['train', 'valid'] # data categories\n",
    "dataloaders = get_dataloaders(study_data, batch_size=1)\n",
    "dataset_sizes = {x: len(study_data[x]) for x in data_cat}"
   ]
  },
  {
   "cell_type": "code",
   "execution_count": 4,
   "metadata": {},
   "outputs": [],
   "source": [
    "tai = {x: get_count(study_data[x], 'positive') for x in data_cat}\n",
    "tni = {x: get_count(study_data[x], 'negative') for x in data_cat}\n",
    "Wt1 = {x: n_p(tni[x] / (tni[x] + tai[x])) for x in data_cat}\n",
    "Wt0 = {x: n_p(tai[x] / (tni[x] + tai[x])) for x in data_cat}"
   ]
  },
  {
   "cell_type": "code",
   "execution_count": 5,
   "metadata": {},
   "outputs": [
    {
     "name": "stdout",
     "output_type": "stream",
     "text": [
      "tai: {'train': 599, 'valid': 140}\n",
      "tni: {'train': 673, 'valid': 148} \n",
      "\n",
      "Wt0 train: tensor([0.4709], device='cuda:0')\n",
      "Wt0 valid: tensor([0.4861], device='cuda:0')\n",
      "Wt1 train: tensor([0.5291], device='cuda:0')\n",
      "Wt1 valid: tensor([0.5139], device='cuda:0')\n"
     ]
    }
   ],
   "source": [
    "print('tai:', tai)\n",
    "print('tni:', tni, '\\n')\n",
    "print('Wt0 train:', Wt0['train'])\n",
    "print('Wt0 valid:', Wt0['valid'])\n",
    "print('Wt1 train:', Wt1['train'])\n",
    "print('Wt1 valid:', Wt1['valid'])"
   ]
  },
  {
   "cell_type": "code",
   "execution_count": 6,
   "metadata": {},
   "outputs": [],
   "source": [
    "class Loss(torch.nn.modules.Module):\n",
    "    def __init__(self, Wt1, Wt0):\n",
    "        super(Loss, self).__init__()\n",
    "        self.Wt1 = Wt1\n",
    "        self.Wt0 = Wt0\n",
    "        \n",
    "    def forward(self, inputs, targets, phase):\n",
    "        loss = - (self.Wt1[phase] * targets * inputs.log() + self.Wt0[phase] * (1 - targets) * (1 - inputs).log())\n",
    "        return loss"
   ]
  },
  {
   "cell_type": "code",
   "execution_count": 7,
   "metadata": {
    "scrolled": true
   },
   "outputs": [
    {
     "name": "stderr",
     "output_type": "stream",
     "text": [
      "C:\\Users\\doshi\\New project\\densenet.py:115: UserWarning: nn.init.kaiming_normal is now deprecated in favor of nn.init.kaiming_normal_.\n",
      "  nn.init.kaiming_normal(m.weight.data)\n"
     ]
    }
   ],
   "source": [
    "model = densenet169(pretrained=True)\n",
    "model = model.cuda()"
   ]
  },
  {
   "cell_type": "code",
   "execution_count": 8,
   "metadata": {},
   "outputs": [],
   "source": [
    "criterion = Loss(Wt1, Wt0)\n",
    "optimizer = torch.optim.Adam(model.parameters(), lr=0.0001)\n",
    "scheduler = torch.optim.lr_scheduler.ReduceLROnPlateau(optimizer, mode='min', patience=1, verbose=True)"
   ]
  },
  {
   "cell_type": "code",
   "execution_count": 9,
   "metadata": {},
   "outputs": [
    {
     "name": "stdout",
     "output_type": "stream",
     "text": [
      "Train batches: 592\n",
      "Valid batches: 135 \n",
      "\n",
      "Epoch 1/10\n",
      "----------\n",
      "0\r"
     ]
    },
    {
     "name": "stderr",
     "output_type": "stream",
     "text": [
      "C:\\Users\\doshi\\Anaconda3\\envs\\test\\lib\\site-packages\\torch\\nn\\functional.py:1332: UserWarning: nn.functional.sigmoid is deprecated. Use torch.sigmoid instead.\n",
      "  warnings.warn(\"nn.functional.sigmoid is deprecated. Use torch.sigmoid instead.\")\n"
     ]
    },
    {
     "name": "stdout",
     "output_type": "stream",
     "text": [
      "train Loss: 0.3454 Acc: 0.5287\n",
      "Confusion Meter:\n",
      " [[ 0.56697822  0.43302181]\n",
      " [ 0.51660514  0.48339483]]\n",
      "valid Loss: 0.4008 Acc: 0.5630\n",
      "Confusion Meter:\n",
      " [[ 0.57352942  0.42647058]\n",
      " [ 0.44776121  0.55223882]]\n",
      "Time elapsed: 4m 29s\n",
      "\n",
      "Epoch 2/10\n",
      "----------\n",
      "train Loss: 0.3427 Acc: 0.5507\n",
      "Confusion Meter:\n",
      " [[ 0.56697822  0.43302181]\n",
      " [ 0.46863469  0.53136533]]\n",
      "valid Loss: 0.3737 Acc: 0.5704\n",
      "Confusion Meter:\n",
      " [[ 0.57352942  0.42647058]\n",
      " [ 0.43283582  0.56716418]]\n",
      "Time elapsed: 8m 51s\n",
      "\n",
      "Epoch 3/10\n",
      "----------\n",
      "train Loss: 0.3454 Acc: 0.5101\n",
      "Confusion Meter:\n",
      " [[ 0.63551402  0.36448598]\n",
      " [ 0.63837636  0.36162362]]\n",
      "valid Loss: 0.5199 Acc: 0.4963\n",
      "Confusion Meter:\n",
      " [[ 0.54411763  0.45588234]\n",
      " [ 0.55223882  0.44776121]]\n",
      "Time elapsed: 13m 11s\n",
      "\n",
      "Epoch 4/10\n",
      "----------\n",
      "train Loss: 0.3358 Acc: 0.5912\n",
      "Confusion Meter:\n",
      " [[ 0.61682242  0.38317758]\n",
      " [ 0.43911439  0.56088561]]\n",
      "valid Loss: 0.5316 Acc: 0.5259\n",
      "Confusion Meter:\n",
      " [[ 0.54411763  0.45588234]\n",
      " [ 0.49253732  0.50746268]]\n",
      "Epoch     3: reducing learning rate of group 0 to 1.0000e-05.\n",
      "Time elapsed: 17m 30s\n",
      "\n",
      "Epoch 5/10\n",
      "----------\n",
      "train Loss: 0.3283 Acc: 0.6655\n",
      "Confusion Meter:\n",
      " [[ 0.80996883  0.19003116]\n",
      " [ 0.50553507  0.49446493]]\n",
      "valid Loss: 0.4524 Acc: 0.5259\n",
      "Confusion Meter:\n",
      " [[ 0.58823532  0.41176471]\n",
      " [ 0.53731346  0.46268657]]\n",
      "Time elapsed: 21m 49s\n",
      "\n",
      "Epoch 6/10\n",
      "----------\n",
      "train Loss: 0.3207 Acc: 0.6605\n",
      "Confusion Meter:\n",
      " [[ 0.69781929  0.30218068]\n",
      " [ 0.38376385  0.61623615]]\n",
      "valid Loss: 0.4357 Acc: 0.5481\n",
      "Confusion Meter:\n",
      " [[ 0.44117647  0.55882353]\n",
      " [ 0.34328359  0.65671641]]\n",
      "Epoch     5: reducing learning rate of group 0 to 1.0000e-06.\n",
      "Time elapsed: 26m 10s\n",
      "\n",
      "Epoch 7/10\n",
      "----------\n",
      "train Loss: 0.3128 Acc: 0.6993\n",
      "Confusion Meter:\n",
      " [[ 0.78816199  0.21183801]\n",
      " [ 0.40590405  0.59409595]]\n",
      "valid Loss: 0.4174 Acc: 0.5704\n",
      "Confusion Meter:\n",
      " [[ 0.54411763  0.45588234]\n",
      " [ 0.40298507  0.5970149 ]]\n",
      "Time elapsed: 30m 30s\n",
      "\n",
      "Epoch 8/10\n",
      "----------\n",
      "train Loss: 0.3124 Acc: 0.6926\n",
      "Confusion Meter:\n",
      " [[ 0.75389409  0.24610592]\n",
      " [ 0.38007382  0.61992621]]\n",
      "valid Loss: 0.3983 Acc: 0.5481\n",
      "Confusion Meter:\n",
      " [[ 0.61764705  0.38235295]\n",
      " [ 0.52238804  0.47761193]]\n",
      "Epoch     7: reducing learning rate of group 0 to 1.0000e-07.\n",
      "Time elapsed: 34m 49s\n",
      "\n",
      "Epoch 9/10\n",
      "----------\n",
      "train Loss: 0.3113 Acc: 0.7061\n",
      "Confusion Meter:\n",
      " [[ 0.75389409  0.24610592]\n",
      " [ 0.35055351  0.64944649]]\n",
      "valid Loss: 0.4147 Acc: 0.5481\n",
      "Confusion Meter:\n",
      " [[ 0.69117647  0.30882353]\n",
      " [ 0.5970149   0.40298507]]\n",
      "Time elapsed: 39m 9s\n",
      "\n",
      "Epoch 10/10\n",
      "----------\n",
      "train Loss: 0.3100 Acc: 0.7111\n",
      "Confusion Meter:\n",
      " [[ 0.76947039  0.23052959]\n",
      " [ 0.35793358  0.64206642]]\n",
      "valid Loss: 0.4147 Acc: 0.5481\n",
      "Confusion Meter:\n",
      " [[ 0.47058824  0.52941179]\n",
      " [ 0.37313432  0.62686568]]\n",
      "Epoch     9: reducing learning rate of group 0 to 1.0000e-08.\n",
      "Time elapsed: 43m 28s\n",
      "\n",
      "Training complete in 43m 28s\n",
      "Best valid Acc: 0.570370\n"
     ]
    },
    {
     "data": {
      "image/png": "[encoded data removed]",
      "text/plain": [
       "<matplotlib.figure.Figure at 0x15b7ab2add8>"
      ]
     },
     "metadata": {
      "needs_background": "light"
     },
     "output_type": "display_data"
    }
   ],
   "source": [
    "model = train_model(model, criterion, optimizer, dataloaders, scheduler, dataset_sizes, num_epochs=10)"
   ]
  },
  {
   "cell_type": "code",
   "execution_count": 10,
   "metadata": {},
   "outputs": [],
   "source": [
    "torch.save(model.state_dict(), 'C:/Users/doshi/New project/model.pth')"
   ]
  },
  {
   "cell_type": "code",
   "execution_count": 11,
   "metadata": {},
   "outputs": [
    {
     "name": "stdout",
     "output_type": "stream",
     "text": [
      "0\r"
     ]
    },
    {
     "name": "stderr",
     "output_type": "stream",
     "text": [
      "C:\\Users\\doshi\\Anaconda3\\envs\\test\\lib\\site-packages\\torch\\nn\\functional.py:1332: UserWarning: nn.functional.sigmoid is deprecated. Use torch.sigmoid instead.\n",
      "  warnings.warn(\"nn.functional.sigmoid is deprecated. Use torch.sigmoid instead.\")\n"
     ]
    },
    {
     "name": "stdout",
     "output_type": "stream",
     "text": [
      "valid Loss: 0.7856 Acc: 0.5704\n",
      "Confusion Meter:\n",
      " [[ 0.57352942  0.42647058]\n",
      " [ 0.43283582  0.56716418]]\n"
     ]
    }
   ],
   "source": [
    "get_metrics(model, criterion, dataloaders, dataset_sizes)"
   ]
  },
  {
   "cell_type": "code",
   "execution_count": null,
   "metadata": {},
   "outputs": [],
   "source": []
  }
 ],
 "metadata": {
  "kernelspec": {
   "display_name": "Python (myenv)",
   "language": "python",
   "name": "myenv"
  },
  "language_info": {
   "codemirror_mode": {
    "name": "ipython",
    "version": 3
   },
   "file_extension": ".py",
   "mimetype": "text/x-python",
   "name": "python",
   "nbconvert_exporter": "python",
   "pygments_lexer": "ipython3",
   "version": "3.5.6"
  }
 },
 "nbformat": 4,
 "nbformat_minor": 2
}
